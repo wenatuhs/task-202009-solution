{
 "cells": [
  {
   "cell_type": "markdown",
   "metadata": {},
   "source": [
    "## Import necessary packages"
   ]
  },
  {
   "cell_type": "code",
   "execution_count": 1,
   "metadata": {},
   "outputs": [
    {
     "name": "stdout",
     "output_type": "stream",
     "text": [
      "Azure blob storage v12.6.0\n"
     ]
    }
   ],
   "source": [
    "# General\n",
    "import os\n",
    "import numpy as np\n",
    "\n",
    "# Azure blob storage related\n",
    "from azure.storage.blob import BlobServiceClient, __version__\n",
    "try:\n",
    "    print(f'Azure blob storage v{__version__}')\n",
    "except Exception as ex:\n",
    "    print(ex)"
   ]
  },
  {
   "cell_type": "markdown",
   "metadata": {},
   "source": [
    "## Investigate the stored data"
   ]
  },
  {
   "cell_type": "markdown",
   "metadata": {},
   "source": [
    "We only have the connection string at hand, it doesn't specify any information about the containers, so firstly we need to look into it:"
   ]
  },
  {
   "cell_type": "markdown",
   "metadata": {},
   "source": [
    "### List containers of the account"
   ]
  },
  {
   "cell_type": "code",
   "execution_count": 11,
   "metadata": {},
   "outputs": [],
   "source": [
    "connection_string = 'DefaultEndpointsProtocol=https;AccountName=tmptask;AccountKey=bsNjOiTW35QqxGVm4qlBbQ+6E3zGA/IK1qV4VzOYUDJ3R3xqEyCFIvCTK0VvLR0nBNiv5kkPOKHkioqBVgk14g==;EndpointSuffix=core.chinacloudapi.cn'"
   ]
  },
  {
   "cell_type": "code",
   "execution_count": 3,
   "metadata": {},
   "outputs": [],
   "source": [
    "service = BlobServiceClient.from_connection_string(conn_str=connection_string)"
   ]
  },
  {
   "cell_type": "code",
   "execution_count": 4,
   "metadata": {},
   "outputs": [
    {
     "name": "stdout",
     "output_type": "stream",
     "text": [
      "ronglz\n",
      "vibopt\n"
     ]
    }
   ],
   "source": [
    "for container in service.list_containers():\n",
    "    print(container.name)"
   ]
  },
  {
   "cell_type": "markdown",
   "metadata": {},
   "source": [
    "So we have two available. Next step: get some sample data from each to see which one (or maybe both) matches the task description."
   ]
  },
  {
   "cell_type": "markdown",
   "metadata": {},
   "source": [
    "### Investigate the `ronglz` container"
   ]
  },
  {
   "cell_type": "code",
   "execution_count": 5,
   "metadata": {},
   "outputs": [],
   "source": [
    "container_1 = service.get_container_client('ronglz')"
   ]
  },
  {
   "cell_type": "code",
   "execution_count": 6,
   "metadata": {},
   "outputs": [
    {
     "data": {
      "text/plain": [
       "114"
      ]
     },
     "execution_count": 6,
     "metadata": {},
     "output_type": "execute_result"
    }
   ],
   "source": [
    "len(list(container_1.list_blobs()))"
   ]
  },
  {
   "cell_type": "markdown",
   "metadata": {},
   "source": [
    "#### Define some helper"
   ]
  },
  {
   "cell_type": "code",
   "execution_count": 3,
   "metadata": {},
   "outputs": [],
   "source": [
    "def list_blob_names(container, count=10):\n",
    "    for blob in container.list_blobs():\n",
    "        if not count:\n",
    "            break\n",
    "        else:\n",
    "            print(blob.name)\n",
    "            count -= 1"
   ]
  },
  {
   "cell_type": "markdown",
   "metadata": {},
   "source": [
    "#### List the first 3 blob names"
   ]
  },
  {
   "cell_type": "code",
   "execution_count": 8,
   "metadata": {},
   "outputs": [
    {
     "name": "stdout",
     "output_type": "stream",
     "text": [
      "00000000_log.gz\n",
      "00000001_log.gz\n",
      "00000002_log.gz\n"
     ]
    }
   ],
   "source": [
    "list_blob_names(container_1, 3)"
   ]
  },
  {
   "cell_type": "markdown",
   "metadata": {},
   "source": [
    "Looks like the one we targeted:)"
   ]
  },
  {
   "cell_type": "markdown",
   "metadata": {},
   "source": [
    "### Investigate the `vibopt` container"
   ]
  },
  {
   "cell_type": "code",
   "execution_count": 9,
   "metadata": {},
   "outputs": [],
   "source": [
    "container_2 = service.get_container_client('vibopt')"
   ]
  },
  {
   "cell_type": "code",
   "execution_count": 10,
   "metadata": {},
   "outputs": [
    {
     "data": {
      "text/plain": [
       "7856"
      ]
     },
     "execution_count": 10,
     "metadata": {},
     "output_type": "execute_result"
    }
   ],
   "source": [
    "len(list(container_2.list_blobs()))"
   ]
  },
  {
   "cell_type": "markdown",
   "metadata": {},
   "source": [
    "#### List the first 3 blob names"
   ]
  },
  {
   "cell_type": "code",
   "execution_count": 11,
   "metadata": {},
   "outputs": [
    {
     "name": "stdout",
     "output_type": "stream",
     "text": [
      "AnotherConfSample.json\n",
      "ConfSample.json\n",
      "VibParameterSample.json\n"
     ]
    }
   ],
   "source": [
    "list_blob_names(container_2, 3)"
   ]
  },
  {
   "cell_type": "markdown",
   "metadata": {},
   "source": [
    "Emmm, this one seems to be off-topic."
   ]
  },
  {
   "cell_type": "markdown",
   "metadata": {},
   "source": [
    "### Summary of the investigation"
   ]
  },
  {
   "cell_type": "markdown",
   "metadata": {},
   "source": [
    "We found 2 containers in the given Azure blob storage account, and only one of them (`ronglz`) looked like the correct one to proceed with, since it contains the log-like data. We'll go with the `ronglz` container in the following sections."
   ]
  },
  {
   "cell_type": "code",
   "execution_count": 9,
   "metadata": {},
   "outputs": [],
   "source": [
    "container = container_1"
   ]
  },
  {
   "cell_type": "markdown",
   "metadata": {},
   "source": [
    "## Play with a single blob"
   ]
  },
  {
   "cell_type": "markdown",
   "metadata": {},
   "source": [
    "Let's try to do the statistics on the data within a single blob first. We'll download the first blob file `00000000_log.gz` to get started."
   ]
  },
  {
   "cell_type": "code",
   "execution_count": 12,
   "metadata": {},
   "outputs": [],
   "source": [
    "data_dir = 'task_data'\n",
    "os.makedirs(data_dir, exist_ok=True)"
   ]
  },
  {
   "cell_type": "code",
   "execution_count": 13,
   "metadata": {},
   "outputs": [],
   "source": [
    "count = 1\n",
    "for blob in container.list_blobs():\n",
    "    if not count:\n",
    "        break\n",
    "    else:\n",
    "        with open(os.path.join(data_dir, blob.name), 'wb') as f:\n",
    "            download_stream = container.download_blob(blob.name)\n",
    "            f.write(download_stream.readall())\n",
    "        count = count - 1"
   ]
  },
  {
   "cell_type": "markdown",
   "metadata": {},
   "source": [
    "### Process the data"
   ]
  },
  {
   "cell_type": "markdown",
   "metadata": {},
   "source": [
    "First try to parse the single line:"
   ]
  },
  {
   "cell_type": "code",
   "execution_count": 4,
   "metadata": {},
   "outputs": [],
   "source": [
    "import gzip"
   ]
  },
  {
   "cell_type": "code",
   "execution_count": 13,
   "metadata": {},
   "outputs": [],
   "source": [
    "lines = []\n",
    "count = 100\n",
    "with gzip.open(os.path.join(data_dir, '00000000_log.gz'), 'rt') as f:\n",
    "    while count:\n",
    "        lines.append(f.readline())\n",
    "        count -= 1"
   ]
  },
  {
   "cell_type": "markdown",
   "metadata": {},
   "source": [
    "Look at several lines to get feelings:"
   ]
  },
  {
   "cell_type": "code",
   "execution_count": 14,
   "metadata": {},
   "outputs": [
    {
     "data": {
      "text/plain": [
       "'DEBUG 20200812 092459.775200 177626 | #2135000001 MD|I=000007.SZ,ETS=09:25:00.000,L=8.96,V=13800,B1=8.88:10100,A1=8.96:10800,B2=8.85:1600,A2=9:21700,B3=8.81:5300,A3=9.02:800,B4=8.78:2800,A4=9.03:5000,B5=8.71:2000,A5=9.05:1200,T=123648.000000 - app_aid_report.c:252\\n'"
      ]
     },
     "execution_count": 14,
     "metadata": {},
     "output_type": "execute_result"
    }
   ],
   "source": [
    "lines[0]"
   ]
  },
  {
   "cell_type": "code",
   "execution_count": 15,
   "metadata": {},
   "outputs": [
    {
     "data": {
      "text/plain": [
       "'DEBUG 20200812 092459.775225 177626 | ##2135000001 000007.SZ prediction=0, raw=0, theo0=0, bp=0,sp=0,q_bp=0,q_sp=0,bv1=0,bv2=0,av1=0,av2=0 - app_aid_report.c:267\\n'"
      ]
     },
     "execution_count": 15,
     "metadata": {},
     "output_type": "execute_result"
    }
   ],
   "source": [
    "lines[1]"
   ]
  },
  {
   "cell_type": "markdown",
   "metadata": {},
   "source": [
    "#### Define the line parser and the stats updater"
   ]
  },
  {
   "cell_type": "code",
   "execution_count": 5,
   "metadata": {},
   "outputs": [],
   "source": [
    "from datetime import datetime"
   ]
  },
  {
   "cell_type": "code",
   "execution_count": 6,
   "metadata": {},
   "outputs": [],
   "source": [
    "def get_seconds(time_str):\n",
    "    return (datetime.strptime(time_str, '%H:%M:%S.%f') - datetime(1900, 1, 1)).total_seconds()"
   ]
  },
  {
   "cell_type": "code",
   "execution_count": 7,
   "metadata": {},
   "outputs": [],
   "source": [
    "def parse_line(line):\n",
    "    tokens = line.split(',')\n",
    "    header = tokens[0]\n",
    "    parts = [token.strip() for token in header.split('|')]\n",
    "    if len(parts) == 2:  # prediction\n",
    "        _idx, stock_id, _prediction = parts[1].split()\n",
    "        idx = _idx[2:]\n",
    "        prediction = float(_prediction.split('=')[1])\n",
    "        return stock_id, idx, prediction\n",
    "    elif len(parts) == 3:  # market log\n",
    "        _idx = parts[1].split()[0]\n",
    "        idx = _idx[1:]\n",
    "        stock_id = parts[2].split('=')[1]\n",
    "        time_str = tokens[1].split('=')[1]\n",
    "        t = get_seconds(time_str)\n",
    "        # Calculate mid-value y\n",
    "        B1_tokens = tokens[4].split('=')\n",
    "        if B1_tokens[0] == 'B1':\n",
    "            B1 = float(B1_tokens[1].split(':')[0])\n",
    "        else:\n",
    "            raise Exception('Malformed data: B1')\n",
    "        A1_tokens = tokens[5].split('=')\n",
    "        if A1_tokens[0] == 'A1':\n",
    "            A1 = float(A1_tokens[1].split(':')[0])\n",
    "        else:\n",
    "            raise Exception('Malformed data: A1')\n",
    "        y = (A1 + B1) / 2\n",
    "        if A1 <= B1:\n",
    "            # invalid value, but keeping it to make sure\n",
    "            # that the idx in cache doesn't jump\n",
    "            y = np.nan\n",
    "        return stock_id, idx, y, t\n",
    "    else:\n",
    "        raise Exception('Malformed data: header')"
   ]
  },
  {
   "cell_type": "code",
   "execution_count": 8,
   "metadata": {},
   "outputs": [],
   "source": [
    "def is_invalid(record):\n",
    "    return (record['t'] is np.nan) or (record['f'] is np.nan) or (record['mt'] is np.nan) or (record['mtn'] is np.nan)"
   ]
  },
  {
   "cell_type": "code",
   "execution_count": 9,
   "metadata": {},
   "outputs": [],
   "source": [
    "def update_stats(stocks_stats, line, n=5, tol=1):\n",
    "    try:\n",
    "        params = parse_line(line)\n",
    "    except Exception as e:\n",
    "        print('error!')\n",
    "        return stocks_stats\n",
    "    \n",
    "    # Create the stats record for the stock if it doesn't exist yet\n",
    "    stock_id = params[0]\n",
    "    try:\n",
    "        stats = stocks_stats[stock_id]\n",
    "    except KeyError:\n",
    "        stocks_stats[stock_id] = {\n",
    "            'count': 0,  # number of the full-info points\n",
    "            'y_m': 0,  # mean of the real values\n",
    "            'y_ms': 0,  # mean square of the real values\n",
    "            'res_ms': 0,  # mean square of the residuals\n",
    "            'cache': [],  # cached market/prediction data of the last n seconds\n",
    "            'invalid': [],  # optional, store the invalid points that removed from cache\n",
    "            'idx_f': -1,  # index of the latest prediction line in the cache\n",
    "            'idx_y': -1  # index of the latest market line in the cache \n",
    "        }\n",
    "        stats = stocks_stats[stock_id]\n",
    "    \n",
    "    # Fill the new data into the cache\n",
    "    if len(params) == 4:  # market log\n",
    "        stock_id, idx, mt, t = params\n",
    "        idx_y_prev = stats['idx_y']\n",
    "        while True:\n",
    "            idx_y = stats['idx_y'] + 1  # the new y index\n",
    "            stats['idx_y'] = idx_y  # update the y index in record\n",
    "            if idx_y < len(stats['cache']):\n",
    "                if idx == stats['cache'][idx_y]['idx']:\n",
    "                    stats['cache'][idx_y]['t'] = t\n",
    "                    stats['cache'][idx_y]['mt'] = mt\n",
    "                    break\n",
    "                elif idx > stats['cache'][idx_y]['idx']:\n",
    "                    # data jump occurred\n",
    "                    # which means this record will never be fullfilled\n",
    "                    stats['cache'][idx_y]['t'] = np.nan\n",
    "                    stats['cache'][idx_y]['mt'] = np.nan\n",
    "                else:\n",
    "                    raise Exception('Malformed data: order')\n",
    "            else:\n",
    "                stats['cache'].append({\n",
    "                    'idx': idx,\n",
    "                    't': t,\n",
    "                    'f': None,\n",
    "                    'mt': mt,\n",
    "                    'mtn': None\n",
    "                })\n",
    "                break\n",
    "                \n",
    "        # Try to fulfill the old cached data\n",
    "        i = 0\n",
    "        cache_size = len(stats['cache'])\n",
    "        while i < cache_size:\n",
    "            if stats['cache'][i]['mtn'] is not None:\n",
    "                i += 1\n",
    "                continue\n",
    "            \n",
    "            dt = t - stats['cache'][i]['t']\n",
    "            if dt >= n:\n",
    "                # Look back to find the closest record\n",
    "                if idx_y_prev != -1:\n",
    "                    t_prev = stats['cache'][idx_y_prev]['t']\n",
    "                    dt_prev = t_prev - stats['cache'][i]['t']\n",
    "                    # If the previous point is closer, use the previous one\n",
    "                    if n - dt_prev < dt - n:\n",
    "                        if n - dt_prev <= tol:\n",
    "                            stats['cache'][i]['mtn'] = stats['cache'][idx_y_prev]['mt']\n",
    "                        else:\n",
    "                            stats['cache'][i]['mtn'] = np.nan\n",
    "                        continue\n",
    "                \n",
    "                if dt <= n + tol:\n",
    "                    stats['cache'][i]['mtn'] = mt\n",
    "                else:\n",
    "                    stats['cache'][i]['mtn'] = np.nan\n",
    "                i += 1\n",
    "            else:\n",
    "                break\n",
    "                \n",
    "    elif len(params) == 3:  # prediction\n",
    "        stock_id, idx, f = params\n",
    "        while True:\n",
    "            idx_f = stats['idx_f'] + 1  # the new f index\n",
    "            stats['idx_f'] = idx_f  # update the f index in record\n",
    "            if idx_f < len(stats['cache']):\n",
    "                if idx == stats['cache'][idx_f]['idx']:\n",
    "                    stats['cache'][idx_f]['f'] = f\n",
    "                    break\n",
    "                elif idx > stats['cache'][idx_f]['idx']:\n",
    "                    # data jump occurred\n",
    "                    # which means this record will never be fulfilled\n",
    "                    stats['cache'][idx_f]['f'] = np.nan\n",
    "                else:\n",
    "                    raise Exception('Malformed data: order')\n",
    "            else:\n",
    "                stats['cache'].append({\n",
    "                    'idx': idx,\n",
    "                    't': None,\n",
    "                    'f': f,\n",
    "                    'mt': None,\n",
    "                    'mtn': None\n",
    "                })\n",
    "                break\n",
    "    else:\n",
    "        print('not gonna happen:)')\n",
    "        return stocks_stats\n",
    "        \n",
    "    # See if the old cached data can be processed and/or removed\n",
    "    while len(stats['cache']):\n",
    "        if is_invalid(stats['cache'][0]):\n",
    "            invalid_record = stats['cache'].pop(0)\n",
    "            stats['invalid'].append(invalid_record)\n",
    "            if stats['idx_y'] != -1:\n",
    "                stats['idx_y'] -= 1\n",
    "            if stats['idx_f'] != -1:\n",
    "                stats['idx_f'] -= 1\n",
    "        else:\n",
    "            try:\n",
    "                f = stats['cache'][0]['f']\n",
    "                mt = stats['cache'][0]['mt']\n",
    "                mtn = stats['cache'][0]['mtn']\n",
    "                y = (mtn - mt) / mt * 1000\n",
    "                res = y - f  # this one will throw a TypeError if not fulfilled\n",
    "                # If successfully pass the line above, we can safely process the record\n",
    "                count = stats['count']\n",
    "                y_m = stats['y_m']\n",
    "                y_ms = stats['y_ms']\n",
    "                res_ms = stats['res_ms']\n",
    "                stats['y_m'] = count / (count + 1) * y_m + 1 / (count + 1) * y\n",
    "                stats['y_ms'] = count / (count + 1) * y_ms + 1 / (count + 1) * y ** 2\n",
    "                stats['res_ms'] = count / (count + 1) * res_ms + 1 / (count + 1) * res ** 2\n",
    "                stats['count'] = count + 1\n",
    "                # Remove the record from cache\n",
    "                stats['cache'].pop(0)\n",
    "                if stats['idx_y'] != -1:\n",
    "                    stats['idx_y'] -= 1\n",
    "                if stats['idx_f'] != -1:\n",
    "                    stats['idx_f'] -= 1\n",
    "            except TypeError:\n",
    "                break\n",
    "        \n",
    "    return stocks_stats"
   ]
  },
  {
   "cell_type": "markdown",
   "metadata": {},
   "source": [
    "#### Fill-in the stocks stats"
   ]
  },
  {
   "cell_type": "code",
   "execution_count": 21,
   "metadata": {},
   "outputs": [],
   "source": [
    "stocks_stats = {}"
   ]
  },
  {
   "cell_type": "code",
   "execution_count": 22,
   "metadata": {},
   "outputs": [],
   "source": [
    "with gzip.open(os.path.join(data_dir, '00000000_log.gz'), 'rt') as f:\n",
    "    for line in f:\n",
    "        try:\n",
    "            stocks_stats = update_stats(stocks_stats, line)\n",
    "        except Exception as e:\n",
    "            print(idx, line)\n",
    "            raise(e)"
   ]
  },
  {
   "cell_type": "markdown",
   "metadata": {},
   "source": [
    "#### Check if the cache looks reasonable"
   ]
  },
  {
   "cell_type": "markdown",
   "metadata": {},
   "source": [
    "Use the stock `000609.SZ` as a sample:"
   ]
  },
  {
   "cell_type": "code",
   "execution_count": 23,
   "metadata": {},
   "outputs": [
    {
     "data": {
      "text/plain": [
       "{'count': 44,\n",
       " 'y_m': -0.017977835,\n",
       " 'y_ms': 2.4423295,\n",
       " 'res_ms': 2.7619668,\n",
       " 'cache': [{'idx': '2135270369',\n",
       "   't': 34231.11,\n",
       "   'f': 0.94336534,\n",
       "   'mt': 6.01,\n",
       "   'mtn': None},\n",
       "  {'idx': '2135271076',\n",
       "   't': 34231.2,\n",
       "   'f': 0.20439202,\n",
       "   'mt': 6.015,\n",
       "   'mtn': None},\n",
       "  {'idx': '2135279346',\n",
       "   't': 34232.81,\n",
       "   'f': 0.20439202,\n",
       "   'mt': 6.015,\n",
       "   'mtn': None},\n",
       "  {'idx': '2135280348',\n",
       "   't': 34233.05,\n",
       "   'f': 0.20439202,\n",
       "   'mt': 6.015,\n",
       "   'mtn': None},\n",
       "  {'idx': '2135287219',\n",
       "   't': 34234.17,\n",
       "   'f': 0.20439202,\n",
       "   'mt': 6.015,\n",
       "   'mtn': None},\n",
       "  {'idx': '2135294416',\n",
       "   't': 34235.45,\n",
       "   'f': 1.3869853,\n",
       "   'mt': 6.015,\n",
       "   'mtn': None},\n",
       "  {'idx': '2135294417',\n",
       "   't': 34235.45,\n",
       "   'f': 1.3869853,\n",
       "   'mt': 6.015,\n",
       "   'mtn': None},\n",
       "  {'idx': '2135294478',\n",
       "   't': 34235.46,\n",
       "   'f': 1.3869853,\n",
       "   'mt': 6.015,\n",
       "   'mtn': None}],\n",
       " 'invalid': [{'idx': '2135000120',\n",
       "   't': 33900,\n",
       "   'f': 0,\n",
       "   'mt': 6.005,\n",
       "   'mtn': nan},\n",
       "  {'idx': '2135042952', 't': nan, 'f': -0.069153666, 'mt': nan, 'mtn': None}],\n",
       " 'idx_f': 7,\n",
       " 'idx_y': 7}"
      ]
     },
     "execution_count": 23,
     "metadata": {},
     "output_type": "execute_result"
    }
   ],
   "source": [
    "stats = stocks_stats['000609.SZ']\n",
    "stats"
   ]
  },
  {
   "cell_type": "markdown",
   "metadata": {},
   "source": [
    "#### Calculate the current R squared"
   ]
  },
  {
   "cell_type": "markdown",
   "metadata": {},
   "source": [
    "Let's calculate the current R sqaured for `000609.SZ`:"
   ]
  },
  {
   "cell_type": "code",
   "execution_count": 24,
   "metadata": {},
   "outputs": [
    {
     "data": {
      "text/plain": [
       "-0.13102365"
      ]
     },
     "execution_count": 24,
     "metadata": {},
     "output_type": "execute_result"
    }
   ],
   "source": [
    "R_squared = 1 - stats['res_ms'] / (stats['y_ms'] - stats['y_m'] ** 2)\n",
    "R_squared"
   ]
  },
  {
   "cell_type": "markdown",
   "metadata": {},
   "source": [
    "Looks like the prediction was pretty bad lol"
   ]
  },
  {
   "cell_type": "markdown",
   "metadata": {},
   "source": [
    "#### Visualize the cached records"
   ]
  },
  {
   "cell_type": "markdown",
   "metadata": {},
   "source": [
    "Let's look closer by doing some plotting of the cached records:"
   ]
  },
  {
   "cell_type": "code",
   "execution_count": 25,
   "metadata": {},
   "outputs": [],
   "source": [
    "data = np.array([[record['t'], record['mt'], record['f']] for record in stats['cache']])"
   ]
  },
  {
   "cell_type": "code",
   "execution_count": 26,
   "metadata": {},
   "outputs": [
    {
     "data": {
      "text/plain": [
       "array([[3.4231110e+04, 6.0100000e+00, 9.4336534e-01],\n",
       "       [3.4231200e+04, 6.0150000e+00, 2.0439202e-01],\n",
       "       [3.4232810e+04, 6.0150000e+00, 2.0439202e-01],\n",
       "       [3.4233050e+04, 6.0150000e+00, 2.0439202e-01],\n",
       "       [3.4234170e+04, 6.0150000e+00, 2.0439202e-01],\n",
       "       [3.4235450e+04, 6.0150000e+00, 1.3869853e+00],\n",
       "       [3.4235450e+04, 6.0150000e+00, 1.3869853e+00],\n",
       "       [3.4235460e+04, 6.0150000e+00, 1.3869853e+00]])"
      ]
     },
     "execution_count": 26,
     "metadata": {},
     "output_type": "execute_result"
    }
   ],
   "source": [
    "data"
   ]
  },
  {
   "cell_type": "code",
   "execution_count": 27,
   "metadata": {},
   "outputs": [],
   "source": [
    "import matplotlib.pyplot as plt"
   ]
  },
  {
   "cell_type": "code",
   "execution_count": 28,
   "metadata": {},
   "outputs": [
    {
     "data": {
      "image/png": "[encoded data removed]",
      "text/plain": [
       "<Figure size 432x288 with 1 Axes>"
      ]
     },
     "metadata": {
      "needs_background": "light"
     },
     "output_type": "display_data"
    }
   ],
   "source": [
    "fig, ax = plt.subplots(1, 1)\n",
    "ax.set(xlabel='time (s)', ylabel='prediction (0.1%)')\n",
    "\n",
    "# ax.plot(data[:, 0] - data[0, 0], data[:, 1], '-', label='mt')\n",
    "ax.plot(data[:, 0] - data[0, 0], data[:, 2], '-', label='f')\n",
    "\n",
    "ax.legend(loc=0)\n",
    "fig.tight_layout()\n",
    "\n",
    "plt.show()"
   ]
  },
  {
   "cell_type": "markdown",
   "metadata": {},
   "source": [
    "Note that the x range is around 5 seconds, which agrees with our cache idea, that we only need to cache the data within the latest 5s to calculate everything we need. In this way, we can use the minimal memory to complete our task. It might be overkilled though."
   ]
  },
  {
   "cell_type": "markdown",
   "metadata": {},
   "source": [
    "#### The invalid data along the statistics"
   ]
  },
  {
   "cell_type": "markdown",
   "metadata": {},
   "source": [
    "Now let's check the invalid data accumulated along the way:"
   ]
  },
  {
   "cell_type": "code",
   "execution_count": 29,
   "metadata": {},
   "outputs": [
    {
     "data": {
      "text/plain": [
       "[{'idx': '2135000120', 't': 33900, 'f': 0, 'mt': 6.005, 'mtn': nan},\n",
       " {'idx': '2135042952', 't': nan, 'f': -0.069153666, 'mt': nan, 'mtn': None}]"
      ]
     },
     "execution_count": 29,
     "metadata": {},
     "output_type": "execute_result"
    }
   ],
   "source": [
    "stats['invalid']"
   ]
  },
  {
   "cell_type": "markdown",
   "metadata": {},
   "source": [
    "The first invalid record means that there was no market record that was `n` seconds ahead of the record `2135000120`, where `n` between 4 and 6. So there's no way to calculate a reliable `mtn`.\n",
    "\n",
    "The second invalid record comes from the data jumping, which means that there was no market record for the specific data index `2135042952`, while there was a prediction for that index.\n",
    "\n",
    "The above 2 types of faults are the main source of all the fault records."
   ]
  },
  {
   "cell_type": "markdown",
   "metadata": {},
   "source": [
    "## Do statistics on all the blobs"
   ]
  },
  {
   "cell_type": "code",
   "execution_count": 12,
   "metadata": {},
   "outputs": [],
   "source": [
    "import pickle\n",
    "from tqdm.auto import tqdm"
   ]
  },
  {
   "cell_type": "code",
   "execution_count": 13,
   "metadata": {},
   "outputs": [],
   "source": [
    "def load_checkpoint(ckpt_dir):\n",
    "    time_str_list = [os.path.splitext(p)[0] for p in os.listdir(ckpt_dir) if os.path.splitext(p)[1] == '.ckpt']\n",
    "    try:\n",
    "        time_str_latest = sorted(time_str_list, key=lambda ts: datetime.strptime(ts, '%y%m%d_%H%M%S'), reverse=True)[0]\n",
    "    except IndexError:\n",
    "        data_init = {\n",
    "            'idx': -1,\n",
    "            'blob': None,\n",
    "            'stocks_stats': {}\n",
    "        }\n",
    "        return data_init\n",
    "    \n",
    "    with open(os.path.join(ckpt_dir, f'{time_str_latest}.ckpt'), 'rb') as f:\n",
    "        data = pickle.load(f)\n",
    "    return data"
   ]
  },
  {
   "cell_type": "code",
   "execution_count": 14,
   "metadata": {},
   "outputs": [],
   "source": [
    "def save_checkpoint(ckpt_dir, data):\n",
    "    time_str = datetime.now().strftime('%y%m%d_%H%M%S')\n",
    "    with open(os.path.join(ckpt_dir, f'{time_str}.ckpt'), 'wb') as f:\n",
    "        pickle.dump(data, f)"
   ]
  },
  {
   "cell_type": "code",
   "execution_count": 15,
   "metadata": {},
   "outputs": [],
   "source": [
    "def do_statistics(conn_str, ctr_name='ronglz', data_dir='task_data', ckpt_dir='task_checkpoints'):\n",
    "    # Makedirs\n",
    "    data_dir = 'task_data'\n",
    "    os.makedirs(data_dir, exist_ok=True)\n",
    "    ckpt_dir = 'task_checkpoints'\n",
    "    os.makedirs(ckpt_dir, exist_ok=True)\n",
    "    \n",
    "    # Load the latest checkpoint\n",
    "    data = load_checkpoint(ckpt_dir)\n",
    "    idx = data['idx']\n",
    "    blob_name = data['blob']\n",
    "    stocks_stats = data['stocks_stats']\n",
    "    \n",
    "    # Connect to the container\n",
    "    service = BlobServiceClient.from_connection_string(conn_str=conn_str)\n",
    "    container = service.get_container_client(ctr_name)\n",
    "    \n",
    "    blobs = list(container.list_blobs())  # do this to give tqdm a total count\n",
    "    if idx != -1:\n",
    "        assert blob_name == blobs[idx].name, 'blobs might have been changed!'\n",
    "        \n",
    "    for i, blob in enumerate(tqdm(blobs[idx + 1:])):\n",
    "        # Download the blob\n",
    "        with open(os.path.join(data_dir, blob.name), 'wb') as f:\n",
    "            download_stream = container.download_blob(blob.name)\n",
    "            f.write(download_stream.readall())\n",
    "\n",
    "        # Update the stocks stats\n",
    "        with gzip.open(os.path.join(data_dir, blob.name), 'rt') as f:\n",
    "            for line in f:\n",
    "                try:\n",
    "                    stocks_stats = update_stats(stocks_stats, line)\n",
    "                except Exception as e:\n",
    "                    print(idx, line)\n",
    "                    raise(e)\n",
    "\n",
    "        # Save the checkpoint\n",
    "        checkpoint = {\n",
    "            'idx': idx + 1 + i,\n",
    "            'blob': blob.name,\n",
    "            'stocks_stats': stocks_stats\n",
    "        }\n",
    "        save_checkpoint(ckpt_dir, checkpoint)"
   ]
  },
  {
   "cell_type": "markdown",
   "metadata": {},
   "source": [
    "### Let's do it"
   ]
  },
  {
   "cell_type": "code",
   "execution_count": 18,
   "metadata": {},
   "outputs": [
    {
     "data": {
      "application/vnd.jupyter.widget-view+json": {
       "model_id": "6f0c63a4b3734527b1f56413921d540b",
       "version_major": 2,
       "version_minor": 0
      },
      "text/plain": [
       "HBox(children=(HTML(value=''), FloatProgress(value=0.0, max=84.0), HTML(value='')))"
      ]
     },
     "metadata": {},
     "output_type": "display_data"
    },
    {
     "name": "stdout",
     "output_type": "stream",
     "text": [
      "\n"
     ]
    },
    {
     "ename": "OSError",
     "evalue": "[Errno 28] No space left on device",
     "output_type": "error",
     "traceback": [
      "\u001b[0;31m---------------------------------------------------------------------------\u001b[0m",
      "\u001b[0;31mOSError\u001b[0m                                   Traceback (most recent call last)",
      "\u001b[0;32m<ipython-input-18-cdb3de37d2ad>\u001b[0m in \u001b[0;36m<module>\u001b[0;34m()\u001b[0m\n\u001b[0;32m----> 1\u001b[0;31m \u001b[0mdo_statistics\u001b[0m\u001b[0;34m(\u001b[0m\u001b[0mconnection_string\u001b[0m\u001b[0;34m)\u001b[0m\u001b[0;34m\u001b[0m\u001b[0;34m\u001b[0m\u001b[0m\n\u001b[0m",
      "\u001b[0;32m<ipython-input-15-0144a190229c>\u001b[0m in \u001b[0;36mdo_statistics\u001b[0;34m(conn_str, ctr_name, data_dir, ckpt_dir)\u001b[0m\n\u001b[1;32m     24\u001b[0m         \u001b[0;32mwith\u001b[0m \u001b[0mopen\u001b[0m\u001b[0;34m(\u001b[0m\u001b[0mos\u001b[0m\u001b[0;34m.\u001b[0m\u001b[0mpath\u001b[0m\u001b[0;34m.\u001b[0m\u001b[0mjoin\u001b[0m\u001b[0;34m(\u001b[0m\u001b[0mdata_dir\u001b[0m\u001b[0;34m,\u001b[0m \u001b[0mblob\u001b[0m\u001b[0;34m.\u001b[0m\u001b[0mname\u001b[0m\u001b[0;34m)\u001b[0m\u001b[0;34m,\u001b[0m \u001b[0;34m'wb'\u001b[0m\u001b[0;34m)\u001b[0m \u001b[0;32mas\u001b[0m \u001b[0mf\u001b[0m\u001b[0;34m:\u001b[0m\u001b[0;34m\u001b[0m\u001b[0;34m\u001b[0m\u001b[0m\n\u001b[1;32m     25\u001b[0m             \u001b[0mdownload_stream\u001b[0m \u001b[0;34m=\u001b[0m \u001b[0mcontainer\u001b[0m\u001b[0;34m.\u001b[0m\u001b[0mdownload_blob\u001b[0m\u001b[0;34m(\u001b[0m\u001b[0mblob\u001b[0m\u001b[0;34m.\u001b[0m\u001b[0mname\u001b[0m\u001b[0;34m)\u001b[0m\u001b[0;34m\u001b[0m\u001b[0;34m\u001b[0m\u001b[0m\n\u001b[0;32m---> 26\u001b[0;31m             \u001b[0mf\u001b[0m\u001b[0;34m.\u001b[0m\u001b[0mwrite\u001b[0m\u001b[0;34m(\u001b[0m\u001b[0mdownload_stream\u001b[0m\u001b[0;34m.\u001b[0m\u001b[0mreadall\u001b[0m\u001b[0;34m(\u001b[0m\u001b[0;34m)\u001b[0m\u001b[0;34m)\u001b[0m\u001b[0;34m\u001b[0m\u001b[0;34m\u001b[0m\u001b[0m\n\u001b[0m\u001b[1;32m     27\u001b[0m \u001b[0;34m\u001b[0m\u001b[0m\n\u001b[1;32m     28\u001b[0m         \u001b[0;31m# Update the stocks stats\u001b[0m\u001b[0;34m\u001b[0m\u001b[0;34m\u001b[0m\u001b[0;34m\u001b[0m\u001b[0m\n",
      "\u001b[0;31mOSError\u001b[0m: [Errno 28] No space left on device"
     ]
    }
   ],
   "source": [
    "do_statistics(connection_string)"
   ]
  },
  {
   "cell_type": "code",
   "execution_count": null,
   "metadata": {},
   "outputs": [],
   "source": []
  },
  {
   "cell_type": "markdown",
   "metadata": {},
   "source": [
    "---\n",
    "\n",
    "## Backlogs"
   ]
  },
  {
   "cell_type": "code",
   "execution_count": 66,
   "metadata": {},
   "outputs": [],
   "source": [
    "time_str_list = [os.path.splitext(p)[0] for p in os.listdir(ckpt_dir) if os.path.splitext(p)[1] == '.ckpt']"
   ]
  },
  {
   "cell_type": "code",
   "execution_count": 71,
   "metadata": {},
   "outputs": [],
   "source": [
    "time_str_list.append('201128_233031')"
   ]
  },
  {
   "cell_type": "code",
   "execution_count": 72,
   "metadata": {},
   "outputs": [
    {
     "data": {
      "text/plain": [
       "['201128_235303', '201128_233031', '201128_231104']"
      ]
     },
     "execution_count": 72,
     "metadata": {},
     "output_type": "execute_result"
    }
   ],
   "source": [
    "sorted(time_str_list, key=lambda ts: datetime.strptime(ts, '%y%m%d_%H%M%S'), reverse=True)"
   ]
  },
  {
   "cell_type": "code",
   "execution_count": null,
   "metadata": {},
   "outputs": [],
   "source": [
    "sorted([], key=lambda ts: datetime.strptime(ts, '%y%m%d_%H%M%S'), reverse=True)[0]"
   ]
  },
  {
   "cell_type": "code",
   "execution_count": 64,
   "metadata": {},
   "outputs": [
    {
     "data": {
      "text/plain": [
       "True"
      ]
     },
     "execution_count": 64,
     "metadata": {},
     "output_type": "execute_result"
    }
   ],
   "source": [
    "datetime.strptime(time_str, '%y%m%d_%H%M%S') > datetime.strptime('201128_235103', '%y%m%d_%H%M%S')"
   ]
  },
  {
   "cell_type": "code",
   "execution_count": 60,
   "metadata": {},
   "outputs": [
    {
     "data": {
      "text/plain": [
       "'201128_235303'"
      ]
     },
     "execution_count": 60,
     "metadata": {},
     "output_type": "execute_result"
    }
   ],
   "source": [
    "time_str"
   ]
  },
  {
   "cell_type": "code",
   "execution_count": 54,
   "metadata": {},
   "outputs": [
    {
     "data": {
      "text/plain": [
       "('123', '.ckpt')"
      ]
     },
     "execution_count": 54,
     "metadata": {},
     "output_type": "execute_result"
    }
   ],
   "source": [
    "os.path.splitext('123.ckpt')"
   ]
  },
  {
   "cell_type": "code",
   "execution_count": 31,
   "metadata": {},
   "outputs": [],
   "source": [
    "# Save the checkpoint\n",
    "checkpoint = {\n",
    "    'blob': '0001',\n",
    "    'stocks_stats': stocks_stats\n",
    "}\n",
    "\n",
    "with open(os.path.join(ckpt_dir, '0001.ckpt'), 'wb') as f:\n",
    "    pickle.dump(checkpoint, f)"
   ]
  },
  {
   "cell_type": "code",
   "execution_count": 32,
   "metadata": {},
   "outputs": [],
   "source": [
    "with open(os.path.join(ckpt_dir, '0001.ckpt'), 'rb') as f:\n",
    "    ckpt = pickle.load(f)"
   ]
  },
  {
   "cell_type": "code",
   "execution_count": 44,
   "metadata": {},
   "outputs": [],
   "source": [
    "blobs = list(container.list_blobs())"
   ]
  },
  {
   "cell_type": "markdown",
   "metadata": {},
   "source": [
    "---"
   ]
  },
  {
   "cell_type": "code",
   "execution_count": 72,
   "metadata": {},
   "outputs": [],
   "source": [
    "def update_stats_s(stocks_stats, line, n=5, tol=1):\n",
    "    try:\n",
    "        params = parse_line(line)\n",
    "    except Exception as e:\n",
    "        print('error!')\n",
    "        return stocks_stats\n",
    "    \n",
    "    # Create the stats record for the stock if it doesn't exist yet\n",
    "    stock_id = params[0]\n",
    "    try:\n",
    "        stats = stocks_stats[stock_id]\n",
    "    except KeyError:\n",
    "        stocks_stats[stock_id] = {\n",
    "            'count': 0,  # number of the full-info points\n",
    "            'y_s': 0,  # sum of the real values\n",
    "            'y_ss': 0,  # square sum of the real values\n",
    "            'res_ss': 0,  # square sum of the residuals\n",
    "            'cache': [],  # cached market/prediction data of the last n seconds\n",
    "            'invalid': [],  # optional, store the invalid points that removed from cache\n",
    "            'idx_f': -1,  # index of the latest prediction line in the cache\n",
    "            'idx_y': -1  # index of the latest market line in the cache \n",
    "        }\n",
    "        stats = stocks_stats[stock_id]\n",
    "    \n",
    "    # Fill the new data into the cache\n",
    "    if len(params) == 4:  # market log\n",
    "        stock_id, idx, mt, t = params\n",
    "        idx_y_prev = stats['idx_y']\n",
    "        while True:\n",
    "            idx_y = stats['idx_y'] + 1  # the new y index\n",
    "            stats['idx_y'] = idx_y  # update the y index in record\n",
    "            if idx_y < len(stats['cache']):\n",
    "                if idx == stats['cache'][idx_y]['idx']:\n",
    "                    stats['cache'][idx_y]['t'] = t\n",
    "                    stats['cache'][idx_y]['mt'] = mt\n",
    "                    break\n",
    "                elif idx > stats['cache'][idx_y]['idx']:\n",
    "                    # data jump occurred\n",
    "                    # which means this record will never be fullfilled\n",
    "                    stats['cache'][idx_y]['t'] = np.nan\n",
    "                    stats['cache'][idx_y]['mt'] = np.nan\n",
    "                else:\n",
    "                    raise Exception('Malformed data: order')\n",
    "            else:\n",
    "                stats['cache'].append({\n",
    "                    'idx': idx,\n",
    "                    't': t,\n",
    "                    'f': None,\n",
    "                    'mt': mt,\n",
    "                    'mtn': None\n",
    "                })\n",
    "                break\n",
    "                \n",
    "        # Try to fulfill the old cached data\n",
    "        i = 0\n",
    "        cache_size = len(stats['cache'])\n",
    "        while i < cache_size:\n",
    "            if stats['cache'][i]['mtn'] is not None:\n",
    "                i += 1\n",
    "                continue\n",
    "            \n",
    "            dt = t - stats['cache'][i]['t']\n",
    "            if dt >= n:\n",
    "                # Look back to find the closest record\n",
    "                if idx_y_prev != -1:\n",
    "                    t_prev = stats['cache'][idx_y_prev]['t']\n",
    "                    dt_prev = t_prev - stats['cache'][i]['t']\n",
    "                    # If the previous point is closer, use the previous one\n",
    "                    if n - dt_prev < dt - n:\n",
    "                        if n - dt_prev <= tol:\n",
    "                            stats['cache'][i]['mtn'] = stats['cache'][idx_y_prev]['mt']\n",
    "                        else:\n",
    "                            stats['cache'][i]['mtn'] = np.nan\n",
    "                        continue\n",
    "                \n",
    "                if dt <= n + tol:\n",
    "                    stats['cache'][i]['mtn'] = mt\n",
    "                else:\n",
    "                    stats['cache'][i]['mtn'] = np.nan\n",
    "                i += 1\n",
    "            else:\n",
    "                break\n",
    "                \n",
    "    elif len(params) == 3:  # prediction\n",
    "        stock_id, idx, f = params\n",
    "        while True:\n",
    "            idx_f = stats['idx_f'] + 1  # the new f index\n",
    "            stats['idx_f'] = idx_f  # update the f index in record\n",
    "            if idx_f < len(stats['cache']):\n",
    "                if idx == stats['cache'][idx_f]['idx']:\n",
    "                    stats['cache'][idx_f]['f'] = f\n",
    "                    break\n",
    "                elif idx > stats['cache'][idx_f]['idx']:\n",
    "                    # data jump occurred\n",
    "                    # which means this record will never be fulfilled\n",
    "                    stats['cache'][idx_f]['f'] = np.nan\n",
    "                else:\n",
    "                    raise Exception('Malformed data: order')\n",
    "            else:\n",
    "                stats['cache'].append({\n",
    "                    'idx': idx,\n",
    "                    't': None,\n",
    "                    'f': f,\n",
    "                    'mt': None,\n",
    "                    'mtn': None\n",
    "                })\n",
    "                break\n",
    "    else:\n",
    "        print('not gonna happen:)')\n",
    "        return stocks_stats\n",
    "        \n",
    "    # See if the old cached data can be processed and/or removed\n",
    "    while len(stats['cache']):\n",
    "        if is_invalid(stats['cache'][0]):\n",
    "            invalid_record = stats['cache'].pop(0)\n",
    "            stats['invalid'].append(invalid_record)\n",
    "            if stats['idx_y'] != -1:\n",
    "                stats['idx_y'] -= 1\n",
    "            if stats['idx_f'] != -1:\n",
    "                stats['idx_f'] -= 1\n",
    "        else:\n",
    "            try:\n",
    "                f = stats['cache'][0]['f']\n",
    "                mt = stats['cache'][0]['mt']\n",
    "                mtn = stats['cache'][0]['mtn']\n",
    "                y = (mtn - mt) / mt * 1000\n",
    "                res = y - f  # this one will throw a TypeError if not fulfilled\n",
    "                # If successfully pass the line above, we can safely process the record\n",
    "                stats['y_s'] += y\n",
    "                stats['y_ss'] += y ** 2\n",
    "                stats['res_ss'] += res ** 2\n",
    "                stats['count'] += 1\n",
    "                # Remove the record from cache\n",
    "                stats['cache'].pop(0)\n",
    "                if stats['idx_y'] != -1:\n",
    "                    stats['idx_y'] -= 1\n",
    "                if stats['idx_f'] != -1:\n",
    "                    stats['idx_f'] -= 1\n",
    "            except TypeError:\n",
    "                break\n",
    "        \n",
    "    return stocks_stats"
   ]
  },
  {
   "cell_type": "code",
   "execution_count": 74,
   "metadata": {},
   "outputs": [],
   "source": [
    "stocks_stats_s = {}"
   ]
  },
  {
   "cell_type": "code",
   "execution_count": 75,
   "metadata": {},
   "outputs": [],
   "source": [
    "with gzip.open(os.path.join(data_dir, '00000000_log.gz'), 'rt') as f:\n",
    "    for line in f:\n",
    "        try:\n",
    "            stocks_stats = update_stats(stocks_stats_s, line)\n",
    "        except Exception as e:\n",
    "            print(idx, line)\n",
    "            raise(e)"
   ]
  },
  {
   "cell_type": "code",
   "execution_count": 76,
   "metadata": {
    "collapsed": true,
    "jupyter": {
     "outputs_hidden": true
    }
   },
   "outputs": [
    {
     "data": {
      "text/plain": [
       "{'count': 290,\n",
       " 'y_s': 144.0759,\n",
       " 'y_ss': 267.83567,\n",
       " 'res_ss': 249.10786,\n",
       " 'cache': [{'idx': '2135275429',\n",
       "   't': 34231.97,\n",
       "   'f': -0.095922559,\n",
       "   'mt': 14.275,\n",
       "   'mtn': None},\n",
       "  {'idx': '2135277066',\n",
       "   't': 34232.28,\n",
       "   'f': -0.12831122,\n",
       "   'mt': 14.27,\n",
       "   'mtn': None},\n",
       "  {'idx': '2135277822',\n",
       "   't': 34232.43,\n",
       "   'f': 0.39522961,\n",
       "   'mt': 14.26,\n",
       "   'mtn': None},\n",
       "  {'idx': '2135278089',\n",
       "   't': 34232.49,\n",
       "   'f': 0.39522961,\n",
       "   'mt': 14.26,\n",
       "   'mtn': None},\n",
       "  {'idx': '2135278102',\n",
       "   't': 34232.5,\n",
       "   'f': 0.39522961,\n",
       "   'mt': 14.26,\n",
       "   'mtn': None},\n",
       "  {'idx': '2135278150',\n",
       "   't': 34232.51,\n",
       "   'f': 0.33437273,\n",
       "   'mt': 14.265,\n",
       "   'mtn': None},\n",
       "  {'idx': '2135278813',\n",
       "   't': 34232.67,\n",
       "   'f': 0.33437273,\n",
       "   'mt': 14.265,\n",
       "   'mtn': None},\n",
       "  {'idx': '2135278938',\n",
       "   't': 34232.7,\n",
       "   'f': 0.33437273,\n",
       "   'mt': 14.265,\n",
       "   'mtn': None},\n",
       "  {'idx': '2135279286',\n",
       "   't': 34232.79,\n",
       "   'f': 0.33437273,\n",
       "   'mt': 14.265,\n",
       "   'mtn': None},\n",
       "  {'idx': '2135279745',\n",
       "   't': 34232.91,\n",
       "   'f': 0.33437273,\n",
       "   'mt': 14.265,\n",
       "   'mtn': None},\n",
       "  {'idx': '2135280146',\n",
       "   't': 34233.01,\n",
       "   'f': 0.33437273,\n",
       "   'mt': 14.265,\n",
       "   'mtn': None},\n",
       "  {'idx': '2135281191',\n",
       "   't': 34233.21,\n",
       "   'f': 0.33437273,\n",
       "   'mt': 14.265,\n",
       "   'mtn': None},\n",
       "  {'idx': '2135281682',\n",
       "   't': 34233.32,\n",
       "   'f': 0.41158053,\n",
       "   'mt': 14.26,\n",
       "   'mtn': None},\n",
       "  {'idx': '2135281901',\n",
       "   't': 34233.37,\n",
       "   'f': 0.25498939,\n",
       "   'mt': 14.265,\n",
       "   'mtn': None},\n",
       "  {'idx': '2135282567',\n",
       "   't': 34233.5,\n",
       "   'f': 0.30228615,\n",
       "   'mt': 14.26,\n",
       "   'mtn': None},\n",
       "  {'idx': '2135282632',\n",
       "   't': 34233.51,\n",
       "   'f': 0.30228615,\n",
       "   'mt': 14.26,\n",
       "   'mtn': None},\n",
       "  {'idx': '2135282891',\n",
       "   't': 34233.56,\n",
       "   'f': 0.21303904,\n",
       "   'mt': 14.265,\n",
       "   'mtn': None},\n",
       "  {'idx': '2135282971',\n",
       "   't': 34233.57,\n",
       "   'f': 0.008266449,\n",
       "   'mt': 14.27,\n",
       "   'mtn': None},\n",
       "  {'idx': '2135283330',\n",
       "   't': 34233.62,\n",
       "   'f': 0.008266449,\n",
       "   'mt': 14.27,\n",
       "   'mtn': None},\n",
       "  {'idx': '2135285777',\n",
       "   't': 34233.99,\n",
       "   'f': 0.21638244,\n",
       "   'mt': 14.265,\n",
       "   'mtn': None},\n",
       "  {'idx': '2135286594',\n",
       "   't': 34234.09,\n",
       "   'f': -0.073081017,\n",
       "   'mt': 14.27,\n",
       "   'mtn': None},\n",
       "  {'idx': '2135288452',\n",
       "   't': 34234.31,\n",
       "   'f': -0.073081017,\n",
       "   'mt': 14.27,\n",
       "   'mtn': None},\n",
       "  {'idx': '2135288997',\n",
       "   't': 34234.38,\n",
       "   'f': -0.073081017,\n",
       "   'mt': 14.27,\n",
       "   'mtn': None},\n",
       "  {'idx': '2135289385',\n",
       "   't': 34234.43,\n",
       "   'f': -0.073081017,\n",
       "   'mt': 14.27,\n",
       "   'mtn': None},\n",
       "  {'idx': '2135289474',\n",
       "   't': 34234.44,\n",
       "   'f': -0.073081017,\n",
       "   'mt': 14.27,\n",
       "   'mtn': None},\n",
       "  {'idx': '2135289848',\n",
       "   't': 34234.52,\n",
       "   'f': -0.073081017,\n",
       "   'mt': 14.27,\n",
       "   'mtn': None},\n",
       "  {'idx': '2135290096',\n",
       "   't': 34234.56,\n",
       "   'f': -0.073081017,\n",
       "   'mt': 14.27,\n",
       "   'mtn': None},\n",
       "  {'idx': '2135290410',\n",
       "   't': 34234.63,\n",
       "   'f': 0.62588841,\n",
       "   'mt': 14.265,\n",
       "   'mtn': None},\n",
       "  {'idx': '2135290453',\n",
       "   't': 34234.64,\n",
       "   'f': -0.049655706,\n",
       "   'mt': 14.275,\n",
       "   'mtn': None},\n",
       "  {'idx': '2135290557',\n",
       "   't': 34234.65,\n",
       "   'f': -0.049655706,\n",
       "   'mt': 14.275,\n",
       "   'mtn': None},\n",
       "  {'idx': '2135290583',\n",
       "   't': 34234.66,\n",
       "   'f': -0.049655706,\n",
       "   'mt': 14.275,\n",
       "   'mtn': None},\n",
       "  {'idx': '2135290787',\n",
       "   't': 34234.71,\n",
       "   'f': -0.049655706,\n",
       "   'mt': 14.275,\n",
       "   'mtn': None},\n",
       "  {'idx': '2135291038',\n",
       "   't': 34234.77,\n",
       "   'f': -0.049655706,\n",
       "   'mt': 14.275,\n",
       "   'mtn': None},\n",
       "  {'idx': '2135291696',\n",
       "   't': 34234.94,\n",
       "   'f': -0.049655706,\n",
       "   'mt': 14.275,\n",
       "   'mtn': None},\n",
       "  {'idx': '2135292316',\n",
       "   't': 34235.06,\n",
       "   'f': -0.049655706,\n",
       "   'mt': 14.275,\n",
       "   'mtn': None},\n",
       "  {'idx': '2135292753',\n",
       "   't': 34235.13,\n",
       "   'f': -0.049655706,\n",
       "   'mt': 14.275,\n",
       "   'mtn': None},\n",
       "  {'idx': '2135292806',\n",
       "   't': 34235.14,\n",
       "   'f': -0.049655706,\n",
       "   'mt': 14.275,\n",
       "   'mtn': None},\n",
       "  {'idx': '2135293969',\n",
       "   't': 34235.36,\n",
       "   'f': -0.049655706,\n",
       "   'mt': 14.275,\n",
       "   'mtn': None},\n",
       "  {'idx': '2135294929',\n",
       "   't': 34235.57,\n",
       "   'f': -0.049655706,\n",
       "   'mt': 14.275,\n",
       "   'mtn': None},\n",
       "  {'idx': '2135295336',\n",
       "   't': 34235.67,\n",
       "   'f': -0.049655706,\n",
       "   'mt': 14.275,\n",
       "   'mtn': None},\n",
       "  {'idx': '2135295556',\n",
       "   't': 34235.72,\n",
       "   'f': -0.049655706,\n",
       "   'mt': 14.275,\n",
       "   'mtn': None},\n",
       "  {'idx': '2135295715',\n",
       "   't': 34235.75,\n",
       "   'f': -0.049655706,\n",
       "   'mt': 14.275,\n",
       "   'mtn': None},\n",
       "  {'idx': '2135295749',\n",
       "   't': 34235.76,\n",
       "   'f': -0.049655706,\n",
       "   'mt': 14.275,\n",
       "   'mtn': None},\n",
       "  {'idx': '2135295889',\n",
       "   't': 34235.79,\n",
       "   'f': -0.049655706,\n",
       "   'mt': 14.275,\n",
       "   'mtn': None},\n",
       "  {'idx': '2135296057',\n",
       "   't': 34235.83,\n",
       "   'f': -0.049655706,\n",
       "   'mt': 14.275,\n",
       "   'mtn': None},\n",
       "  {'idx': '2135296076',\n",
       "   't': 34235.84,\n",
       "   'f': -0.049655706,\n",
       "   'mt': 14.275,\n",
       "   'mtn': None},\n",
       "  {'idx': '2135296147',\n",
       "   't': 34235.85,\n",
       "   'f': -0.049655706,\n",
       "   'mt': 14.275,\n",
       "   'mtn': None},\n",
       "  {'idx': '2135296468',\n",
       "   't': 34235.93,\n",
       "   'f': -0.049655706,\n",
       "   'mt': 14.275,\n",
       "   'mtn': None},\n",
       "  {'idx': '2135296511',\n",
       "   't': 34235.95,\n",
       "   'f': -0.049655706,\n",
       "   'mt': 14.275,\n",
       "   'mtn': None},\n",
       "  {'idx': '2135296728',\n",
       "   't': 34236.01,\n",
       "   'f': -0.049655706,\n",
       "   'mt': 14.275,\n",
       "   'mtn': None},\n",
       "  {'idx': '2135297568',\n",
       "   't': 34236.16,\n",
       "   'f': -0.049655706,\n",
       "   'mt': 14.275,\n",
       "   'mtn': None},\n",
       "  {'idx': '2135298054',\n",
       "   't': 34236.26,\n",
       "   'f': -0.049655706,\n",
       "   'mt': 14.275,\n",
       "   'mtn': None},\n",
       "  {'idx': '2135299079',\n",
       "   't': 34236.47,\n",
       "   'f': -0.049655706,\n",
       "   'mt': 14.275,\n",
       "   'mtn': None}],\n",
       " 'invalid': [{'idx': '2135001973',\n",
       "   't': 33903,\n",
       "   'f': 0,\n",
       "   'mt': 14.215,\n",
       "   'mtn': nan}],\n",
       " 'idx_f': 52,\n",
       " 'idx_y': 52}"
      ]
     },
     "execution_count": 76,
     "metadata": {},
     "output_type": "execute_result"
    }
   ],
   "source": [
    "stats = stocks_stats_s['000001.SZ']\n",
    "stats"
   ]
  },
  {
   "cell_type": "code",
   "execution_count": 77,
   "metadata": {},
   "outputs": [
    {
     "data": {
      "text/plain": [
       "-0.26929525"
      ]
     },
     "execution_count": 77,
     "metadata": {},
     "output_type": "execute_result"
    }
   ],
   "source": [
    "R_squared = 1 - stats['res_ss'] / (stats['y_ss'] - 1 / stats['count'] * stats['y_s'] ** 2)\n",
    "R_squared"
   ]
  },
  {
   "cell_type": "markdown",
   "metadata": {},
   "source": [
    "---"
   ]
  },
  {
   "cell_type": "code",
   "execution_count": 199,
   "metadata": {},
   "outputs": [],
   "source": [
    "for idx, line in enumerate(lines):\n",
    "    try:\n",
    "        stocks_stats = update_stats(stocks_stats, line)\n",
    "    except Exception as e:\n",
    "        print(idx, line)\n",
    "        raise(e)"
   ]
  },
  {
   "cell_type": "code",
   "execution_count": 201,
   "metadata": {},
   "outputs": [
    {
     "data": {
      "text/plain": [
       "[{'idx': '2135000097', 't': 33900, 'f': 0, 'mt': nan, 'mtn': None},\n",
       " {'idx': '2135001975', 't': 33903, 'f': 0, 'mt': 18.535, 'mtn': None},\n",
       " {'idx': '2135004385',\n",
       "  't': 34200.02,\n",
       "  'f': -0.51458406,\n",
       "  'mt': 18.535,\n",
       "  'mtn': None}]"
      ]
     },
     "execution_count": 201,
     "metadata": {},
     "output_type": "execute_result"
    }
   ],
   "source": [
    "stocks_stats['000023.SZ']['cache']"
   ]
  },
  {
   "cell_type": "code",
   "execution_count": 194,
   "metadata": {},
   "outputs": [
    {
     "data": {
      "text/plain": [
       "'000002.SZ'"
      ]
     },
     "execution_count": 194,
     "metadata": {},
     "output_type": "execute_result"
    }
   ],
   "source": [
    "list(stocks_stats.keys())[1]"
   ]
  },
  {
   "cell_type": "code",
   "execution_count": 193,
   "metadata": {},
   "outputs": [
    {
     "data": {
      "text/plain": [
       "{'count': 0,\n",
       " 'y_m': 0,\n",
       " 'res_ms': 0,\n",
       " 'tot_ms': 0,\n",
       " 'cache': [{'idx': '2135000001', 't': 33900, 'f': 0, 'mt': 8.92, 'mtn': None}],\n",
       " 'idx_f': None,\n",
       " 'idx_y': None}"
      ]
     },
     "execution_count": 193,
     "metadata": {},
     "output_type": "execute_result"
    }
   ],
   "source": [
    "stocks_stats['000007.SZ']"
   ]
  },
  {
   "cell_type": "code",
   "execution_count": 195,
   "metadata": {},
   "outputs": [
    {
     "data": {
      "text/plain": [
       "{'count': 0,\n",
       " 'y_m': 0,\n",
       " 'res_ms': 0,\n",
       " 'tot_ms': 0,\n",
       " 'cache': [{'idx': '2135000002',\n",
       "   't': 33900,\n",
       "   'f': 0,\n",
       "   'mt': 27.895,\n",
       "   'mtn': None}],\n",
       " 'idx_f': None,\n",
       " 'idx_y': None}"
      ]
     },
     "execution_count": 195,
     "metadata": {},
     "output_type": "execute_result"
    }
   ],
   "source": [
    "stocks_stats['000002.SZ']"
   ]
  },
  {
   "cell_type": "code",
   "execution_count": null,
   "metadata": {},
   "outputs": [],
   "source": [
    "lines = []\n",
    "count = 0\n",
    "with gzip.open(os.path.join(data_dir, '00000000_log.gz'), 'rt') as f:\n",
    "    for line in f:\n",
    "#     while count:\n",
    "#         lines.append(f.readline())\n",
    "        count += 1"
   ]
  },
  {
   "cell_type": "code",
   "execution_count": 171,
   "metadata": {},
   "outputs": [],
   "source": [
    "a = {}"
   ]
  },
  {
   "cell_type": "code",
   "execution_count": 172,
   "metadata": {},
   "outputs": [
    {
     "ename": "KeyError",
     "evalue": "'key'",
     "output_type": "error",
     "traceback": [
      "\u001b[0;31m---------------------------------------------------------------------------\u001b[0m",
      "\u001b[0;31mKeyError\u001b[0m                                  Traceback (most recent call last)",
      "\u001b[0;32m<ipython-input-172-bb98230c46e5>\u001b[0m in \u001b[0;36m<module>\u001b[0;34m()\u001b[0m\n\u001b[0;32m----> 1\u001b[0;31m \u001b[0ma\u001b[0m\u001b[0;34m[\u001b[0m\u001b[0;34m'key'\u001b[0m\u001b[0;34m]\u001b[0m\u001b[0;34m\u001b[0m\u001b[0;34m\u001b[0m\u001b[0m\n\u001b[0m",
      "\u001b[0;31mKeyError\u001b[0m: 'key'"
     ]
    }
   ],
   "source": [
    "a['key']"
   ]
  },
  {
   "cell_type": "code",
   "execution_count": 170,
   "metadata": {},
   "outputs": [
    {
     "name": "stdout",
     "output_type": "stream",
     "text": [
      "3\n",
      "4\n"
     ]
    }
   ],
   "source": [
    "for line in lines[6001:6003]:\n",
    "    print(len(parse_line(line)))"
   ]
  },
  {
   "cell_type": "code",
   "execution_count": 168,
   "metadata": {},
   "outputs": [
    {
     "name": "stdout",
     "output_type": "stream",
     "text": [
      "DEBUG 20200812 092459.775200 177626 | #2135000001 MD|I=000007.SZ,ETS=09:25:00.000,L=8.96,V=13800,B1=8.88:10100,A1=8.96:10800,B2=8.85:1600,A2=9:21700,B3=8.81:5300,A3=9.02:800,B4=8.78:2800,A4=9.03:5000,B5=8.71:2000,A5=9.05:1200,T=123648.000000 - app_aid_report.c:252\n",
      "\n"
     ]
    }
   ],
   "source": [
    "print(lines[0])"
   ]
  },
  {
   "cell_type": "code",
   "execution_count": 137,
   "metadata": {},
   "outputs": [],
   "source": [
    "line = lines[0]"
   ]
  },
  {
   "cell_type": "code",
   "execution_count": 138,
   "metadata": {},
   "outputs": [],
   "source": [
    "tokens = line.split(',')"
   ]
  },
  {
   "cell_type": "code",
   "execution_count": 139,
   "metadata": {},
   "outputs": [],
   "source": [
    "header = tokens[0]"
   ]
  },
  {
   "cell_type": "code",
   "execution_count": 140,
   "metadata": {},
   "outputs": [
    {
     "data": {
      "text/plain": [
       "['DEBUG 20200812 092459.775200 177626 | #2135000001 MD|I=000007.SZ',\n",
       " 'ETS=09:25:00.000',\n",
       " 'L=8.96',\n",
       " 'V=13800',\n",
       " 'B1=8.88:10100',\n",
       " 'A1=8.96:10800',\n",
       " 'B2=8.85:1600',\n",
       " 'A2=9:21700',\n",
       " 'B3=8.81:5300',\n",
       " 'A3=9.02:800',\n",
       " 'B4=8.78:2800',\n",
       " 'A4=9.03:5000',\n",
       " 'B5=8.71:2000',\n",
       " 'A5=9.05:1200',\n",
       " 'T=123648.000000 - app_aid_report.c:252\\n']"
      ]
     },
     "execution_count": 140,
     "metadata": {},
     "output_type": "execute_result"
    }
   ],
   "source": [
    "tokens"
   ]
  },
  {
   "cell_type": "code",
   "execution_count": 141,
   "metadata": {},
   "outputs": [],
   "source": [
    "parts = [token.strip() for token in header.split('|')]"
   ]
  },
  {
   "cell_type": "code",
   "execution_count": 142,
   "metadata": {},
   "outputs": [
    {
     "data": {
      "text/plain": [
       "3"
      ]
     },
     "execution_count": 142,
     "metadata": {},
     "output_type": "execute_result"
    }
   ],
   "source": [
    "len(parts)"
   ]
  },
  {
   "cell_type": "code",
   "execution_count": 143,
   "metadata": {},
   "outputs": [
    {
     "data": {
      "text/plain": [
       "['DEBUG 20200812 092459.775200 177626', '#2135000001 MD', 'I=000007.SZ']"
      ]
     },
     "execution_count": 143,
     "metadata": {},
     "output_type": "execute_result"
    }
   ],
   "source": [
    "parts"
   ]
  },
  {
   "cell_type": "code",
   "execution_count": 144,
   "metadata": {},
   "outputs": [],
   "source": [
    "_idx = parts[1].split()[0]"
   ]
  },
  {
   "cell_type": "code",
   "execution_count": 145,
   "metadata": {},
   "outputs": [],
   "source": [
    "idx = _idx[1:]"
   ]
  },
  {
   "cell_type": "code",
   "execution_count": 146,
   "metadata": {},
   "outputs": [
    {
     "data": {
      "text/plain": [
       "'2135000001'"
      ]
     },
     "execution_count": 146,
     "metadata": {},
     "output_type": "execute_result"
    }
   ],
   "source": [
    "idx"
   ]
  },
  {
   "cell_type": "code",
   "execution_count": 147,
   "metadata": {},
   "outputs": [],
   "source": [
    "stock_id = parts[2].split('=')[1]"
   ]
  },
  {
   "cell_type": "code",
   "execution_count": 148,
   "metadata": {},
   "outputs": [
    {
     "data": {
      "text/plain": [
       "'000007.SZ'"
      ]
     },
     "execution_count": 148,
     "metadata": {},
     "output_type": "execute_result"
    }
   ],
   "source": [
    "stock_id"
   ]
  },
  {
   "cell_type": "code",
   "execution_count": 152,
   "metadata": {},
   "outputs": [],
   "source": [
    "time_str = tokens[1].split('=')[1]\n",
    "get_seconds(time_str)"
   ]
  },
  {
   "cell_type": "code",
   "execution_count": 158,
   "metadata": {},
   "outputs": [],
   "source": [
    "B1 = float(tokens[4].split('=')[1].split(':')[0])\n",
    "A1 = float(tokens[5].split('=')[1].split(':')[0])"
   ]
  },
  {
   "cell_type": "code",
   "execution_count": 159,
   "metadata": {},
   "outputs": [
    {
     "data": {
      "text/plain": [
       "(8.88, 8.96)"
      ]
     },
     "execution_count": 159,
     "metadata": {},
     "output_type": "execute_result"
    }
   ],
   "source": [
    "B1, A1"
   ]
  },
  {
   "cell_type": "code",
   "execution_count": 122,
   "metadata": {},
   "outputs": [],
   "source": [
    "_idx, stock_id, _prediction = parts[1].split()"
   ]
  },
  {
   "cell_type": "code",
   "execution_count": 123,
   "metadata": {},
   "outputs": [],
   "source": [
    "idx = _idx[2:]"
   ]
  },
  {
   "cell_type": "code",
   "execution_count": 126,
   "metadata": {},
   "outputs": [],
   "source": [
    "prediction = float(_prediction.split('=')[1])"
   ]
  },
  {
   "cell_type": "code",
   "execution_count": 128,
   "metadata": {},
   "outputs": [
    {
     "data": {
      "text/plain": [
       "('2135000001', '000007.SZ', 0)"
      ]
     },
     "execution_count": 128,
     "metadata": {},
     "output_type": "execute_result"
    }
   ],
   "source": [
    "idx, stock_id, prediction"
   ]
  },
  {
   "cell_type": "code",
   "execution_count": 77,
   "metadata": {},
   "outputs": [],
   "source": [
    "time_str = line.split(',')[1].split('=')[1]"
   ]
  },
  {
   "cell_type": "code",
   "execution_count": 82,
   "metadata": {},
   "outputs": [],
   "source": [
    "from datetime import datetime"
   ]
  },
  {
   "cell_type": "code",
   "execution_count": 104,
   "metadata": {},
   "outputs": [],
   "source": [
    "time_str = '09:25:13.330'"
   ]
  },
  {
   "cell_type": "code",
   "execution_count": 62,
   "metadata": {},
   "outputs": [
    {
     "data": {
      "text/plain": [
       "['DEBUG 20200812 092459.775200 177626', '#2135000001 MD', 'I=000007.SZ']"
      ]
     },
     "execution_count": 62,
     "metadata": {},
     "output_type": "execute_result"
    }
   ],
   "source": [
    "[token.strip() for token in line.split(',')[0].split('|')]"
   ]
  }
 ],
 "metadata": {
  "kernelspec": {
   "display_name": "Python 3",
   "language": "python",
   "name": "python3"
  },
  "language_info": {
   "codemirror_mode": {
    "name": "ipython",
    "version": 3
   },
   "file_extension": ".py",
   "mimetype": "text/x-python",
   "name": "python",
   "nbconvert_exporter": "python",
   "pygments_lexer": "ipython3",
   "version": "3.7.8"
  }
 },
 "nbformat": 4,
 "nbformat_minor": 4
}
